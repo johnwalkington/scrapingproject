{
 "cells": [
  {
   "cell_type": "code",
   "execution_count": 41,
   "id": "9d782762-386b-46bf-bed6-71a389da8699",
   "metadata": {},
   "outputs": [],
   "source": [
    "#importing necessary libraries\n",
    "import numpy as np\n",
    "import pandas as pd\n",
    "import os\n",
    "from plotnine import *"
   ]
  },
  {
   "cell_type": "code",
   "execution_count": 45,
   "id": "aea37900-ac8e-4c27-ab55-bfa25f4bf629",
   "metadata": {},
   "outputs": [],
   "source": [
    "#read in data \n",
    "IN_PATH = os.path.join(\"Data\", \"new_final_clean.csv\")\n",
    "OUTPUT_DIR_PLOTS = \"plots\"\n",
    "OUTPUT_DIR_DATA = \"Data\"\n",
    "\n",
    "\n",
    "Motorcycles_CV =\\\n",
    "    pd.read_csv(IN_PATH)"
   ]
  },
  {
   "cell_type": "code",
   "execution_count": 43,
   "id": "bfabc4eb-cc45-44a3-a25b-654800670ca4",
   "metadata": {},
   "outputs": [],
   "source": [
    "#data cleaning\n",
    "    \n",
    "Motorcycles_CV['City'] = Motorcycles_CV['City'].str.capitalize()\n",
    "\n",
    "Motorcycles_CV['Brand'] = Motorcycles_CV['Brand'].str.capitalize()\n",
    "\n",
    "Motorcycles_CV['Brand'] = Motorcycles_CV['Brand'].replace(['Hd','Harleydavidson','Harley'],'Harley Davidson')\n",
    "\n",
    "Motorcycles_CV['Brand'] = Motorcycles_CV['Brand'].replace(['Ktm'],'KTM')\n",
    "\n",
    "Motorcycles_CV['Brand'] = Motorcycles_CV['Brand'].replace(['Bmw'],'BMW')\n",
    "\n",
    "Motorcycles_CV['City'] = Motorcycles_CV['City'].replace(['Corpuschristi'],'Corpus Christi')\n",
    "\n",
    "Motorcycles_CV['City'] = Motorcycles_CV['City'].replace(['Collegestation'],'College Station')\n",
    "\n",
    "Motorcycles_CV['City'] = Motorcycles_CV['City'].replace(['Easttexas'],'East Texas')\n",
    "\n",
    "Motorcycles_CV['City'] = Motorcycles_CV['City'].replace(['Sanantonio'],'San Antonio')\n",
    "\n",
    "Motorcycles_CV.loc[1567, 'Brand'] = 'Honda'"
   ]
  },
  {
   "cell_type": "code",
   "execution_count": 44,
   "id": "6bd70578-f392-4296-bcc9-f0f33031d7c7",
   "metadata": {},
   "outputs": [],
   "source": [
    "#peeking at some of the data\n",
    "\n",
    "Brand_counts = Motorcycles_CV['Brand'].value_counts()"
   ]
  },
  {
   "cell_type": "code",
   "execution_count": 47,
   "id": "657c8846-534d-42e8-a99b-71daab846dfe",
   "metadata": {},
   "outputs": [],
   "source": [
    "#exporting the CSV\n",
    "write_df1 = Motorcycles_CV.to_csv(os.path.join(OUTPUT_DIR_DATA, \"final_clean.csv\"))"
   ]
  },
  {
   "cell_type": "code",
   "execution_count": 48,
   "id": "a98f6087-4110-4d77-bea2-66997410b73e",
   "metadata": {},
   "outputs": [],
   "source": [
    "#getting brand by city counts\n",
    "brand_city = Motorcycles_CV.groupby(['Brand','City'])['Brand'].count().reset_index(name=\"Count\")\n",
    "\n",
    "\n",
    "#exporting csv\n",
    "write_df2 = brand_city.to_csv(os.path.join(OUTPUT_DIR_DATA, \"brand_city_counts.csv\"))\n"
   ]
  },
  {
   "cell_type": "code",
   "execution_count": 49,
   "id": "4bb0ee85-69e5-41cd-afe2-a8414054a4f6",
   "metadata": {},
   "outputs": [
    {
     "name": "stderr",
     "output_type": "stream",
     "text": [
      "/Library/Frameworks/Python.framework/Versions/3.10/lib/python3.10/site-packages/plotnine/ggplot.py:719: PlotnineWarning: Saving 10 x 10 in image.\n",
      "/Library/Frameworks/Python.framework/Versions/3.10/lib/python3.10/site-packages/plotnine/ggplot.py:722: PlotnineWarning: Filename: plots/plot1.png\n"
     ]
    }
   ],
   "source": [
    "#creating brand popularity plot\n",
    "plot_1 = (ggplot(Motorcycles_CV)\n",
    " + aes(x='Brand', fill= 'Brand')\n",
    " + geom_bar(size=20)\n",
    " + theme(axis_text_x = element_text(angle=45, hjust=1))\n",
    " + labs(title=\"Motorcycle Brand Popularity\", \n",
    "         x=\"Brand\", y = \"Number of Listings\")\n",
    ")\n",
    "\n",
    "#saving brand popularity plot to plot folder\n",
    "ggsave(filename=\"plot1.png\",\n",
    "       plot=plot_1,\n",
    "       device='png',\n",
    "       dpi=300,\n",
    "       height= 10,\n",
    "       width= 10,\n",
    "       path= os.path.join(OUTPUT_DIR_PLOTS)\n",
    "      )\n",
    "\n",
    " \n"
   ]
  },
  {
   "cell_type": "code",
   "execution_count": null,
   "id": "4246a142-4ea8-41a1-88cd-5600a5c06ff8",
   "metadata": {},
   "outputs": [],
   "source": []
  },
  {
   "cell_type": "code",
   "execution_count": null,
   "id": "4bd4a70b-acae-495d-a660-dfd3de677a7a",
   "metadata": {},
   "outputs": [],
   "source": []
  },
  {
   "cell_type": "code",
   "execution_count": null,
   "id": "b75c6701-3f93-4781-8ae2-f0c40daa171e",
   "metadata": {},
   "outputs": [],
   "source": []
  },
  {
   "cell_type": "code",
   "execution_count": null,
   "id": "9c2dbcf6-e978-4214-a864-f0a7e7a7ee99",
   "metadata": {},
   "outputs": [],
   "source": []
  },
  {
   "cell_type": "code",
   "execution_count": null,
   "id": "a569ab89-17de-4bba-8170-888876acb8f0",
   "metadata": {},
   "outputs": [],
   "source": []
  },
  {
   "cell_type": "code",
   "execution_count": null,
   "id": "7f392c84-7379-4e8c-a947-917d82701c03",
   "metadata": {},
   "outputs": [],
   "source": []
  },
  {
   "cell_type": "code",
   "execution_count": null,
   "id": "7d04e3e1-8d02-492c-9f55-571b0125e6d2",
   "metadata": {},
   "outputs": [],
   "source": []
  }
 ],
 "metadata": {
  "kernelspec": {
   "display_name": "Python 3 (ipykernel)",
   "language": "python",
   "name": "python3"
  },
  "language_info": {
   "codemirror_mode": {
    "name": "ipython",
    "version": 3
   },
   "file_extension": ".py",
   "mimetype": "text/x-python",
   "name": "python",
   "nbconvert_exporter": "python",
   "pygments_lexer": "ipython3",
   "version": "3.10.2"
  }
 },
 "nbformat": 4,
 "nbformat_minor": 5
}
