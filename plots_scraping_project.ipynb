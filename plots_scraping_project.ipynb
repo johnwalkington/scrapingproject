{
 "cells": [
  {
   "cell_type": "code",
   "execution_count": 3,
   "id": "9d782762-386b-46bf-bed6-71a389da8699",
   "metadata": {},
   "outputs": [],
   "source": [
    "#importing necessary libraries\n",
    "import numpy as np\n",
    "import pandas as pd\n",
    "import os\n",
    "from plotnine import *"
   ]
  },
  {
   "cell_type": "code",
   "execution_count": 4,
   "id": "aea37900-ac8e-4c27-ab55-bfa25f4bf629",
   "metadata": {},
   "outputs": [],
   "source": [
    "#read in data \n",
    "IN_PATH = os.path.join(\"Data\", \"new_final_clean.csv\")\n",
    "OUTPUT_DIR_PLOTS = \"plots\"\n",
    "OUTPUT_DIR_DATA = \"Data\"\n",
    "\n",
    "\n",
    "Motorcycles_CV =\\\n",
    "    pd.read_csv(IN_PATH)"
   ]
  },
  {
   "cell_type": "code",
   "execution_count": 5,
   "id": "bfabc4eb-cc45-44a3-a25b-654800670ca4",
   "metadata": {},
   "outputs": [],
   "source": [
    "#data cleaning\n",
    "    \n",
    "Motorcycles_CV['City'] = Motorcycles_CV['City'].str.capitalize()\n",
    "\n",
    "Motorcycles_CV['Brand'] = Motorcycles_CV['Brand'].str.capitalize()\n",
    "\n",
    "Motorcycles_CV['Brand'] = Motorcycles_CV['Brand'].replace(['Hd','Harleydavidson','Harley'],'Harley Davidson')\n",
    "\n",
    "Motorcycles_CV['Brand'] = Motorcycles_CV['Brand'].replace(['Ktm'],'KTM')\n",
    "\n",
    "Motorcycles_CV['Brand'] = Motorcycles_CV['Brand'].replace(['Bmw'],'BMW')\n",
    "\n",
    "Motorcycles_CV['City'] = Motorcycles_CV['City'].replace(['Corpuschristi'],'Corpus Christi')\n",
    "\n",
    "Motorcycles_CV['City'] = Motorcycles_CV['City'].replace(['Collegestation'],'College Station')\n",
    "\n",
    "Motorcycles_CV['City'] = Motorcycles_CV['City'].replace(['Easttexas'],'East Texas')\n",
    "\n",
    "Motorcycles_CV['City'] = Motorcycles_CV['City'].replace(['Sanantonio'],'San Antonio')\n",
    "\n",
    "Motorcycles_CV.loc[1567, 'Brand'] = 'Honda'"
   ]
  },
  {
   "cell_type": "code",
   "execution_count": 6,
   "id": "6bd70578-f392-4296-bcc9-f0f33031d7c7",
   "metadata": {},
   "outputs": [],
   "source": [
    "#peeking at some of the data\n",
    "\n",
    "Brand_counts = Motorcycles_CV['Brand'].value_counts()"
   ]
  },
  {
   "cell_type": "code",
   "execution_count": 7,
   "id": "657c8846-534d-42e8-a99b-71daab846dfe",
   "metadata": {},
   "outputs": [],
   "source": [
    "#exporting the CSV\n",
    "write_df1 = Motorcycles_CV.to_csv(os.path.join(OUTPUT_DIR_DATA, \"final_clean.csv\"))"
   ]
  },
  {
   "cell_type": "code",
   "execution_count": 8,
   "id": "a98f6087-4110-4d77-bea2-66997410b73e",
   "metadata": {},
   "outputs": [],
   "source": [
    "#getting brand by city counts\n",
    "brand_city = Motorcycles_CV.groupby(['Brand','City'])['Brand'].count().reset_index(name=\"Count\")\n",
    "\n",
    "\n",
    "#exporting csv\n",
    "write_df2 = brand_city.to_csv(os.path.join(OUTPUT_DIR_DATA, \"brand_city_counts.csv\"))\n"
   ]
  },
  {
   "cell_type": "code",
   "execution_count": 9,
   "id": "4bb0ee85-69e5-41cd-afe2-a8414054a4f6",
   "metadata": {},
   "outputs": [
    {
     "name": "stderr",
     "output_type": "stream",
     "text": [
      "/Library/Frameworks/Python.framework/Versions/3.10/lib/python3.10/site-packages/plotnine/ggplot.py:719: PlotnineWarning: Saving 10 x 10 in image.\n",
      "/Library/Frameworks/Python.framework/Versions/3.10/lib/python3.10/site-packages/plotnine/ggplot.py:722: PlotnineWarning: Filename: plots/plot1.png\n"
     ]
    }
   ],
   "source": [
    "#creating brand popularity plot\n",
    "plot_1 = (ggplot(Motorcycles_CV)\n",
    " + aes(x='Brand', fill= 'Brand')\n",
    " + geom_bar(size=20)\n",
    " + theme(axis_text_x = element_text(angle=45, hjust=1))\n",
    " + labs(title=\"Motorcycle Brand Popularity\", \n",
    "         x=\"Brand\", y = \"Number of Listings\")\n",
    ")\n",
    "\n",
    "#saving brand popularity plot to plot folder\n",
    "ggsave(filename=\"plot1.png\",\n",
    "       plot=plot_1,\n",
    "       device='png',\n",
    "       dpi=300,\n",
    "       height= 10,\n",
    "       width= 10,\n",
    "       path= os.path.join(OUTPUT_DIR_PLOTS)\n",
    "      )\n",
    "\n",
    " \n"
   ]
  },
  {
   "cell_type": "code",
   "execution_count": 26,
   "id": "4246a142-4ea8-41a1-88cd-5600a5c06ff8",
   "metadata": {},
   "outputs": [
    {
     "data": {
      "text/html": [
       "<div>\n",
       "<style scoped>\n",
       "    .dataframe tbody tr th:only-of-type {\n",
       "        vertical-align: middle;\n",
       "    }\n",
       "\n",
       "    .dataframe tbody tr th {\n",
       "        vertical-align: top;\n",
       "    }\n",
       "\n",
       "    .dataframe thead th {\n",
       "        text-align: right;\n",
       "    }\n",
       "</style>\n",
       "<table border=\"1\" class=\"dataframe\">\n",
       "  <thead>\n",
       "    <tr style=\"text-align: right;\">\n",
       "      <th></th>\n",
       "      <th>Brand</th>\n",
       "      <th>Price</th>\n",
       "    </tr>\n",
       "  </thead>\n",
       "  <tbody>\n",
       "    <tr>\n",
       "      <th>0</th>\n",
       "      <td>BMW</td>\n",
       "      <td>10808.0</td>\n",
       "    </tr>\n",
       "    <tr>\n",
       "      <th>1</th>\n",
       "      <td>Canam</td>\n",
       "      <td>15040.0</td>\n",
       "    </tr>\n",
       "    <tr>\n",
       "      <th>2</th>\n",
       "      <td>Ducati</td>\n",
       "      <td>14642.0</td>\n",
       "    </tr>\n",
       "    <tr>\n",
       "      <th>3</th>\n",
       "      <td>Harley Davidson</td>\n",
       "      <td>15236.0</td>\n",
       "    </tr>\n",
       "    <tr>\n",
       "      <th>4</th>\n",
       "      <td>Honda</td>\n",
       "      <td>7912.0</td>\n",
       "    </tr>\n",
       "    <tr>\n",
       "      <th>5</th>\n",
       "      <td>Indian</td>\n",
       "      <td>15761.0</td>\n",
       "    </tr>\n",
       "    <tr>\n",
       "      <th>6</th>\n",
       "      <td>KTM</td>\n",
       "      <td>8352.0</td>\n",
       "    </tr>\n",
       "    <tr>\n",
       "      <th>7</th>\n",
       "      <td>Kawasaki</td>\n",
       "      <td>7449.0</td>\n",
       "    </tr>\n",
       "    <tr>\n",
       "      <th>8</th>\n",
       "      <td>Polaris</td>\n",
       "      <td>21281.0</td>\n",
       "    </tr>\n",
       "    <tr>\n",
       "      <th>9</th>\n",
       "      <td>Suzuki</td>\n",
       "      <td>8388.0</td>\n",
       "    </tr>\n",
       "    <tr>\n",
       "      <th>10</th>\n",
       "      <td>Triumph</td>\n",
       "      <td>9294.0</td>\n",
       "    </tr>\n",
       "    <tr>\n",
       "      <th>11</th>\n",
       "      <td>Victory</td>\n",
       "      <td>8719.0</td>\n",
       "    </tr>\n",
       "    <tr>\n",
       "      <th>12</th>\n",
       "      <td>Yamaha</td>\n",
       "      <td>7087.0</td>\n",
       "    </tr>\n",
       "  </tbody>\n",
       "</table>\n",
       "</div>"
      ],
      "text/plain": [
       "              Brand    Price\n",
       "0               BMW  10808.0\n",
       "1             Canam  15040.0\n",
       "2            Ducati  14642.0\n",
       "3   Harley Davidson  15236.0\n",
       "4             Honda   7912.0\n",
       "5            Indian  15761.0\n",
       "6               KTM   8352.0\n",
       "7          Kawasaki   7449.0\n",
       "8           Polaris  21281.0\n",
       "9            Suzuki   8388.0\n",
       "10          Triumph   9294.0\n",
       "11          Victory   8719.0\n",
       "12           Yamaha   7087.0"
      ]
     },
     "metadata": {},
     "output_type": "display_data"
    }
   ],
   "source": [
    "#creating the data for plot 2\n",
    "\n",
    "mean_brand = (Motorcycles_CV.groupby('Brand')['Price'].mean())\n",
    "\n",
    "mean_brand.to_csv(os.path.join(OUTPUT_DIR_DATA, \"brand_avgs.csv\"))\n",
    "\n",
    "mean_brand = pd.read_csv(os.path.join(\"Data\", \"brand_avgs.csv\"))\n",
    "\n",
    "mean_brand['Price'] = mean_brand['Price'].round()\n"
   ]
  },
  {
   "cell_type": "code",
   "execution_count": 42,
   "id": "4bd4a70b-acae-495d-a660-dfd3de677a7a",
   "metadata": {},
   "outputs": [
    {
     "name": "stderr",
     "output_type": "stream",
     "text": [
      "/Library/Frameworks/Python.framework/Versions/3.10/lib/python3.10/site-packages/plotnine/ggplot.py:719: PlotnineWarning: Saving 10 x 10 in image.\n",
      "/Library/Frameworks/Python.framework/Versions/3.10/lib/python3.10/site-packages/plotnine/ggplot.py:722: PlotnineWarning: Filename: plots/plot2.png\n"
     ]
    }
   ],
   "source": [
    "#Adding Plot 2 \n",
    "\n",
    "plot_2 = (ggplot(mean_brand)\n",
    " + aes(x='Brand', y='Price', fill= 'Brand')\n",
    " + geom_bar(stat= \"identity\", size=20)\n",
    " + theme(axis_text_x = element_text(angle=45, hjust=1))\n",
    " + labs(title=\"Average Price by Motorcycle Brand\", \n",
    "         x=\"Brand\", y = \"Average Price\")\n",
    ")\n",
    "\n",
    "\n",
    "#saving brand popularity plot to plot folder\n",
    "ggsave(filename = \"plot2.png\",\n",
    "       plot=plot_2,\n",
    "       device='png',\n",
    "       dpi=300,\n",
    "       height= 10,\n",
    "       width= 10,\n",
    "       path= os.path.join(OUTPUT_DIR_PLOTS)\n",
    "      )"
   ]
  },
  {
   "cell_type": "code",
   "execution_count": null,
   "id": "b75c6701-3f93-4781-8ae2-f0c40daa171e",
   "metadata": {},
   "outputs": [],
   "source": []
  },
  {
   "cell_type": "code",
   "execution_count": null,
   "id": "9c2dbcf6-e978-4214-a864-f0a7e7a7ee99",
   "metadata": {},
   "outputs": [],
   "source": []
  },
  {
   "cell_type": "code",
   "execution_count": null,
   "id": "a569ab89-17de-4bba-8170-888876acb8f0",
   "metadata": {},
   "outputs": [],
   "source": []
  },
  {
   "cell_type": "code",
   "execution_count": null,
   "id": "7f392c84-7379-4e8c-a947-917d82701c03",
   "metadata": {},
   "outputs": [],
   "source": []
  },
  {
   "cell_type": "code",
   "execution_count": null,
   "id": "7d04e3e1-8d02-492c-9f55-571b0125e6d2",
   "metadata": {},
   "outputs": [],
   "source": []
  }
 ],
 "metadata": {
  "kernelspec": {
   "display_name": "Python 3 (ipykernel)",
   "language": "python",
   "name": "python3"
  },
  "language_info": {
   "codemirror_mode": {
    "name": "ipython",
    "version": 3
   },
   "file_extension": ".py",
   "mimetype": "text/x-python",
   "name": "python",
   "nbconvert_exporter": "python",
   "pygments_lexer": "ipython3",
   "version": "3.10.2"
  }
 },
 "nbformat": 4,
 "nbformat_minor": 5
}
